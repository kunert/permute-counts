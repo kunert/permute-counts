{
 "cells": [
  {
   "cell_type": "code",
   "execution_count": 10,
   "metadata": {},
   "outputs": [],
   "source": [
    "import numpy as np\n",
    "from copy import copy\n",
    "import matplotlib.pyplot as plt\n",
    "from tqdm import tqdm_notebook as tqdm\n",
    "import time\n",
    "%matplotlib inline\n",
    "\n",
    "\n",
    "\n",
    "def time_theirs(N=20,M=10000):\n",
    "    # M =  number of samples\n",
    "    # N =  number of permutations\n",
    "\n",
    "    #generate synthetic SNP data array \"x0\"\n",
    "    #which is a 2xM array generated such that SNPs will each be in hardy-weinberg eq.,\n",
    "    #with a minor allele frequency of \"p\"\n",
    "    p=0.55\n",
    "    x0=np.random.rand(2,M)\n",
    "    x0=(x0>(p**2)).astype(int)+(x0>(p**2+2*p*(1-p))).astype(int)\n",
    "    \n",
    "    #generate binary phenotype labels, where \"p_f\" have a value 0 (and 1-p_f have value 1)\n",
    "    p_f=0.66\n",
    "    p0=np.random.rand(M)\n",
    "    p0=(p0>p_f).astype(int)\n",
    "    pheno=copy(p0)\n",
    "    \n",
    "    #calculate un-permuted count table\n",
    "    C0=np.zeros((2,3,3))\n",
    "    for i in range(3):\n",
    "        for j in range(3):\n",
    "            for k in range(2):\n",
    "                C0[k,i,j]=np.sum((x0[0]==i)&(x0[1]==j)&(pheno==k))\n",
    "                \n",
    "    ## START TIMING NAIVE PERMUTATION ##\n",
    "    tic=time.clock()\n",
    "    #initialize array to hold \"N\" 2x3x3 count tables\n",
    "    C1=np.zeros((2,3,3,N))\n",
    "    for n in range(N):\n",
    "        #at each iteration, shuffle the phenotype labels\n",
    "        np.random.shuffle(p0)\n",
    "        for i in range(3):\n",
    "            for j in range(3):\n",
    "                for k in range(2):\n",
    "                    #simply count and record how many of this combination exist given the shuffled phenotype label\n",
    "                    C1[k,i,j,n]=np.sum((x0[0]==i)&(x0[1]==j)&(p0==k))\n",
    "    dt=time.clock()-tic\n",
    "    return dt\n",
    "\n",
    "def time_ours(N=20,M=10000,C0=[]):\n",
    "    # M =  number of samples\n",
    "    # N =  number of permutations\n",
    "    \n",
    "    # if no count table is provided, generate one\n",
    "    if C0==[]:\n",
    "        #generates 2x3x3 count table where first dim is binary phenotype with frequency \"f_p\",\n",
    "        # and dimensions 2/3 are SNPs in in hardy-weinberg eq.,\n",
    "        #with a minor allele frequency of \"p\"\n",
    "        #note that we generate the count table directly (which is equivalent but much faster)\n",
    "        #whereas \"time_theirs\" has to generate the synthetic data first, since it needs it\n",
    "        #for permutations. This does not factor into the timing as timing doesn't start until\n",
    "        #after data is generated in each case.\n",
    "        p=0.55\n",
    "        f_p=0.66\n",
    "\n",
    "        pv=np.array([[p**2,2*p*(1-p),(1-p)**2]])\n",
    "        pv=pv*pv.T\n",
    "        pv=pv[None,:,:]*np.array([f_p,1.0-f_p])[:,None,None]\n",
    "        pv=pv.ravel()\n",
    "        C0=np.random.multinomial(M,pv).reshape((2,3,3))\n",
    "    ## START TIMING ##\n",
    "    tic=time.clock()\n",
    "    C0=np.stack([C0]*N,-1)\n",
    "    # sum across first axis to get genotype counts in each\n",
    "    nij=C0.sum(0).reshape(9,-1).astype(int)\n",
    "    #nrem[k] is the remaining total genotype counts at the k'th (i,j)\n",
    "    nrem=np.sum(nij,0)[None,:]-np.cumsum(nij,0)\n",
    "    #n0 is the total number of zero labels\n",
    "    n0=C0[0].sum(axis=(0,1)).ravel().astype(int)\n",
    "    #n0p is the total number of zero labels left to be assigned in the permuted tables\n",
    "    n0p=copy(n0)\n",
    "    #initialize \"Co\" array to store results from our method\n",
    "    Co=np.zeros(nij.shape)\n",
    "    for k in range(nij.shape[0]):\n",
    "        #draw new phenotype labels for each (i,j) from hypergeometric distribution\n",
    "        Co[k][n0p!=0]=np.random.hypergeometric(nij[k][n0p!=0],nrem[k][n0p!=0],n0p[n0p!=0])\n",
    "        #subtract the number of labels already assigned to get updated number remaining\n",
    "        n0p=(n0-np.sum(Co,0)).astype(int)\n",
    "    #reshape pheno=0 layer of each array back to 1x3x3\n",
    "    Co=Co.reshape((1,3,3,N))\n",
    "    #get value-1 labels by subtracting from value-0 labels from total at each (i,j)\n",
    "    Co=np.vstack([Co,nij.reshape(1,3,3,N)-Co])\n",
    "    dt=time.clock()-tic\n",
    "    return dt\n"
   ]
  },
  {
   "cell_type": "code",
   "execution_count": 11,
   "metadata": {},
   "outputs": [
    {
     "data": {
      "application/vnd.jupyter.widget-view+json": {
       "model_id": "749a691c71ed4c6995fbae106a772c0b"
      }
     },
     "metadata": {},
     "output_type": "display_data"
    },
    {
     "name": "stdout",
     "output_type": "stream",
     "text": [
      "\n"
     ]
    },
    {
     "data": {
      "application/vnd.jupyter.widget-view+json": {
       "model_id": "2df3e188dcb449c9a6fb0e27984b6724"
      }
     },
     "metadata": {},
     "output_type": "display_data"
    },
    {
     "name": "stdout",
     "output_type": "stream",
     "text": [
      "\n"
     ]
    }
   ],
   "source": [
    "#fix the number of permutations N and calculate each approach over a range of M (number of individuals)\n",
    "N=20\n",
    "M2=np.logspace(2,8,100).astype(int)\n",
    "MDT2=[]\n",
    "nloops=100\n",
    "#compute each value \"nloops\" times and take mean computation time afterwards\n",
    "for n in tqdm(range(nloops)):\n",
    "    dt2=[]\n",
    "    #shuffle M2 to reduce systemic bias if computation slows/speeds due to external processes\n",
    "    np.random.shuffle(M2)\n",
    "    dt2k=[]\n",
    "    for k,M in enumerate(M2):\n",
    "        dt2k.append(time_ours(N=N,M=M))\n",
    "    dt2k=np.array(dt2k)\n",
    "    dt2.append(dt2k[np.argsort(M2)])\n",
    "    MDT2.append(dt2)\n",
    "M2=M2[np.argsort(M2)]\n",
    "MDT2m=np.vstack(MDT2).mean(0)\n",
    "\n",
    "M1=np.logspace(2,5,100).astype(int)\n",
    "MDT1=[]\n",
    "for n in tqdm(range(nloops)):\n",
    "    dt1=[]\n",
    "    #shuffle M1 to reduce systemic bias if computation slows/speeds due to external processes\n",
    "    np.random.shuffle(M1)\n",
    "    dt1k=[]\n",
    "    for k,M in enumerate(M1):\n",
    "        dt1k.append(time_theirs(N=N,M=M))\n",
    "    dt1k=np.array(dt1k)\n",
    "    dt1.append(dt1k[np.argsort(M1)])\n",
    "    MDT1.append(dt1)\n",
    "M1=M1[np.argsort(M1)]\n",
    "MDT1m=np.vstack(MDT1).mean(0)"
   ]
  },
  {
   "cell_type": "code",
   "execution_count": 14,
   "metadata": {},
   "outputs": [
    {
     "data": {
      "application/vnd.jupyter.widget-view+json": {
       "model_id": "c6a9cd0880b140e9b7423b84e6b32ff0"
      }
     },
     "metadata": {},
     "output_type": "display_data"
    },
    {
     "name": "stdout",
     "output_type": "stream",
     "text": [
      "\n"
     ]
    }
   ],
   "source": [
    "#fix the number of individuals M and calculate each approach over a range of N (number of permutations)\n",
    "\n",
    "M=100000\n",
    "\n",
    "N1=np.arange(10,100)\n",
    "N2=np.logspace(1,5,100).astype(int)\n",
    "DT1=[]\n",
    "DT2=[]\n",
    "nloops=10\n",
    "#compute each value \"nloops\" times and take mean computation time afterwards\n",
    "for n in tqdm(range(nloops)):\n",
    "    dt1=[]\n",
    "    for k,N in enumerate(N1):\n",
    "        dt1.append(time_theirs(N=N,M=M))\n",
    "    DT1.append(dt1)\n",
    "\n",
    "    dt2=[]\n",
    "    for k,N in enumerate(N2):\n",
    "        dt2.append(time_ours(N=N,M=M))\n",
    "    DT2.append(dt2)\n",
    "DT1m=np.vstack(DT1).mean(0)\n",
    "DT2m=np.vstack(DT2).mean(0)\n"
   ]
  },
  {
   "cell_type": "code",
   "execution_count": 15,
   "metadata": {},
   "outputs": [
    {
     "data": {
      "image/png": "[encoded data removed]",
      "text/plain": [
       "<Figure size 864x432 with 2 Axes>"
      ]
     },
     "metadata": {},
     "output_type": "display_data"
    }
   ],
   "source": [
    "plt.figure(figsize=(12,6))\n",
    "\n",
    "#scale all of the computation times by the total number of SNPs of interest: trivially, time scales linearly in\n",
    "#number of SNPs\n",
    "scale=1e5\n",
    "DT1m_scale=DT1m*scale\n",
    "DT2m_scale=DT2m*scale\n",
    "MDT1m_scale=MDT1m*scale\n",
    "MDT2m_scale=MDT2m*scale\n",
    "\n",
    "### Plot varying number of permutations N ###\n",
    "plt.subplot(1,2,1)\n",
    "#fit a linear line to the time data\n",
    "m1,b1=np.polyfit(N1,DT1m_scale,1)\n",
    "m2,b2=np.polyfit(N2,DT2m_scale,1)\n",
    "\n",
    "#plot both the data itself and the line fit\n",
    "l1,=plt.plot(N1,DT1m_scale,'.',label='Direct Permutation')\n",
    "l2,=plt.plot(N2,DT2m_scale,'.',label='Our Method')\n",
    "plt.plot(N1,m1*N1+b1,c=l1.get_color())\n",
    "plt.plot(N2,m2*N2+b2,c=l2.get_color())\n",
    "\n",
    "plt.xscale('log')\n",
    "plt.legend()\n",
    "\n",
    "plt.title('Computation Time with n=10k Individuals, 100k SNPs')\n",
    "plt.ylabel('Time per Computation (s)',fontsize=12)\n",
    "plt.xlabel('Number of Permutations $N_p$',fontsize=12)\n",
    "\n",
    "e1=int(np.floor(np.log10(m1)))\n",
    "r1=m1/(10**e1)\n",
    "plt.text(1.5e2,0.42*scale,'$t \\sim {:0.1f}\\cdot N_p$'.format(m1),c=l1.get_color(),fontsize=12)\n",
    "e2=int(np.floor(np.log10(m2)))\n",
    "r2=m2/(10**e2)\n",
    "plt.text(1.5e2,0.1*scale,'$t \\sim {:0.2f}\\cdot N_p$'.format(m2,b2),c=l2.get_color(),fontsize=12)\n",
    "\n",
    "plt.text(2,0.659*scale,'(A)',fontsize=20)\n",
    "plt.xlim(10,1.2e5)\n",
    "plt.ylim([-0.01,0.65*scale])\n",
    "\n",
    "### Plot varying number of individuals M ###\n",
    "plt.subplot(1,2,2)\n",
    "#fit a linear line to the time data\n",
    "m1,b1=np.polyfit(M1,MDT1m_scale,1)\n",
    "m2,b2=np.polyfit(M2,MDT2m_scale,1)\n",
    "#plot both the data itself and the line fit\n",
    "l1,=plt.plot(M1,MDT1m_scale,'.',label='Direct Permutation')\n",
    "l2,=plt.plot(M2,MDT2m_scale,'.',label='Our Method')\n",
    "plt.plot(M1,m1*M1+b1,c=l1.get_color())\n",
    "plt.plot(M2,m2*M2+b2,c=l2.get_color())\n",
    "\n",
    "plt.xscale('log')\n",
    "plt.legend()\n",
    "\n",
    "\n",
    "\n",
    "plt.title('Computation Time for $N_P=20$ Permutations, 100k SNPs')\n",
    "plt.ylabel('Time per Computation (s)',fontsize=12)\n",
    "plt.xlabel('Number of Individuals $n$',fontsize=12)\n",
    "\n",
    "e1=int(np.floor(np.log10(m1)))\n",
    "r1=m1/(10**e1)\n",
    "plt.text(1e5,0.06*scale,'$t \\sim {:0.2f}\\cdot n$'.format(m1,b1),c=l1.get_color(),fontsize=12)\n",
    "\n",
    "e2=int(np.floor(np.log10(np.abs(m2))))\n",
    "r2=m2/(10**e2)\n",
    "plt.text(3e4,0.01*scale,'$t \\sim ({:0.1f}x 10^{{{:}}})\\cdot n$'.format(r2,e2,b2),c=l2.get_color(),fontsize=12)\n",
    "\n",
    "plt.text(10,0.1115*scale,'(B)',fontsize=20)\n",
    "plt.xlim(1e2,1e8)\n",
    "plt.ylim([-0.001,0.11*scale])\n",
    "\n",
    "plt.tight_layout()\n",
    "\n",
    "#plt.savefig('computation_times.svg')\n",
    "#plt.savefig('computation_times.png',dpi=200)"
   ]
  },
  {
   "cell_type": "code",
   "execution_count": null,
   "metadata": {},
   "outputs": [],
   "source": []
  }
 ],
 "metadata": {
  "kernelspec": {
   "display_name": "Python 3",
   "language": "python",
   "name": "python3"
  },
  "language_info": {
   "codemirror_mode": {
    "name": "ipython",
    "version": 3
   },
   "file_extension": ".py",
   "mimetype": "text/x-python",
   "name": "python",
   "nbconvert_exporter": "python",
   "pygments_lexer": "ipython3",
   "version": "3.6.9"
  }
 },
 "nbformat": 4,
 "nbformat_minor": 2
}
