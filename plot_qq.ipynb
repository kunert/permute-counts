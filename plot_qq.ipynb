{
 "cells": [
  {
   "cell_type": "code",
   "execution_count": null,
   "metadata": {},
   "outputs": [
    {
     "data": {
      "application/vnd.jupyter.widget-view+json": {
       "model_id": "7c72bc2b84694d23b40de45e04a79b5a"
      }
     },
     "metadata": {},
     "output_type": "display_data"
    }
   ],
   "source": [
    "import numpy as np\n",
    "from copy import copy\n",
    "from scipy.stats import epps_singleton_2samp\n",
    "import warnings\n",
    "import matplotlib.pyplot as plt\n",
    "from tqdm import tqdm_notebook as tqdm\n",
    "%matplotlib inline\n",
    "\n",
    "pvals=[]\n",
    "for n in tqdm(range(1000)):\n",
    "    N=1000\n",
    "    M=10000\n",
    "    C0=np.zeros((2,3,3,N))\n",
    "    x0=np.random.rand(2,M)\n",
    "    #uniform random allele frequency in range (0.1,0.9)\n",
    "    p=0.01+0.98*np.random.rand()\n",
    "    x0=(x0>(p**2)).astype(int)+(x0>(p**2+2*p*(1-p))).astype(int)\n",
    "    p0=np.random.rand(M)\n",
    "    #uniform random phenotype probability in range (0.1,0.9)\n",
    "    pheno_q=0.01+0.98*np.random.rand()\n",
    "    p0=(p0>pheno_q).astype(int)\n",
    "    pheno=copy(p0)\n",
    "    for n in range(N):\n",
    "        np.random.shuffle(p0)\n",
    "        for i in range(3):\n",
    "            for j in range(3):\n",
    "                for k in range(2):\n",
    "                    C0[k,i,j,n]=np.sum((x0[0]==i)&(x0[1]==j)&(p0==k))\n",
    "\n",
    "    # sum across first axis to get genotype counts in each\n",
    "    nij=C0.sum(0).reshape(9,-1).astype(int)\n",
    "    #nrem[k] is the remaining total genotype counts at the k'th (i,j)\n",
    "    nrem=np.sum(nij,0)[None,:]-np.cumsum(nij,0)\n",
    "    #n0 is the total number of zero labels\n",
    "    n0=C0[0].sum(axis=(0,1)).ravel().astype(int)\n",
    "    #n0p is the total number of zero labels left to be assigned in the permuted tables\n",
    "    n0p=copy(n0)\n",
    "    #initialize \"Co\" array to store results from our method\n",
    "    Co=np.zeros(nij.shape)\n",
    "    for k in range(nij.shape[0]):\n",
    "        #draw new phenotype labels for each (i,j) from hypergeometric distribution\n",
    "        Co[k][n0p!=0]=np.random.hypergeometric(nij[k][n0p!=0],nrem[k][n0p!=0],n0p[n0p!=0])\n",
    "        #subtract the number of labels already assigned to get updated number remaining\n",
    "        n0p=(n0-np.sum(Co,0)).astype(int)\n",
    "    #reshape pheno=0 layer of each array back to 1x3x3\n",
    "    Co=Co.reshape((1,3,3,N))\n",
    "    #get value-1 labels by subtracting from value-0 labels from total at each (i,j)\n",
    "    Co=np.vstack([Co,nij.reshape(1,3,3,N)-Co])\n",
    "    for i in range(3):\n",
    "        for j in range(3):\n",
    "            c1,c2=np.vstack([Co[0,i,j,:],C0[0,i,j,:]])\n",
    "            if not np.all(c1==0):\n",
    "                with warnings.catch_warnings():\n",
    "                    warnings.simplefilter(\"ignore\")\n",
    "                    try:\n",
    "                        #note: \n",
    "                        pvals.append(epps_singleton_2samp(c1,c2).pvalue)\n",
    "                    except:\n",
    "                        pass\n",
    "pvals=np.array(pvals)\n"
   ]
  },
  {
   "cell_type": "code",
   "execution_count": 48,
   "metadata": {},
   "outputs": [
    {
     "data": {
      "image/png": "[encoded data removed]",
      "text/plain": [
       "<Figure size 432x432 with 1 Axes>"
      ]
     },
     "metadata": {},
     "output_type": "display_data"
    }
   ],
   "source": [
    "plt.figure(figsize=(6,6))\n",
    "x=np.linspace(0,1,len(pvals))\n",
    "plt.plot(x,np.sort(pvals),'.')\n",
    "plt.plot([0,1],[0,1],':',c=[0,0,0])\n",
    "plt.xlim([0,1])\n",
    "plt.ylim([0,1])\n",
    "plt.xlabel('Expected p-values (equivalent distributions)',fontsize=14)\n",
    "plt.ylabel('Actual p-values',fontsize=14)\n",
    "#plt.savefig('./ES_pvals.png')\n",
    "#plt.savefig('./ES_pvals.svg')"
   ]
  }
 ],
 "metadata": {
  "kernelspec": {
   "display_name": "Python 3",
   "language": "python",
   "name": "python3"
  },
  "language_info": {
   "codemirror_mode": {
    "name": "ipython",
    "version": 3
   },
   "file_extension": ".py",
   "mimetype": "text/x-python",
   "name": "python",
   "nbconvert_exporter": "python",
   "pygments_lexer": "ipython3",
   "version": "3.6.9"
  }
 },
 "nbformat": 4,
 "nbformat_minor": 2
}
